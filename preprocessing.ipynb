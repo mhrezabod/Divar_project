{
 "cells": [
  {
   "cell_type": "code",
   "execution_count": 15,
   "id": "0fcbecee",
   "metadata": {},
   "outputs": [],
   "source": [
    "import numpy as np\n",
    "import pandas as pd\n",
    "from unidecode import unidecode\n",
    "import re"
   ]
  },
  {
   "cell_type": "code",
   "execution_count": 16,
   "id": "8b19c5e5",
   "metadata": {},
   "outputs": [],
   "source": [
    "df = pd.read_csv('clean/divar_out_remove.csv')"
   ]
  },
  {
   "cell_type": "code",
   "execution_count": null,
   "id": "5701f604",
   "metadata": {},
   "outputs": [],
   "source": []
  },
  {
   "cell_type": "code",
   "execution_count": 17,
   "id": "34176583",
   "metadata": {},
   "outputs": [],
   "source": [
    "def ConvertNumbers(persian_int):\n",
    "        return unidecode(f\"{persian_int}\")\n",
    "\n",
    "df['floor_en'] = df['floor'].apply(ConvertNumbers)\n",
    "df.drop(df[df['floor_en']=='nan'].index, inplace=True)\n",
    "\n",
    "\n",
    "def tabaghe_t(x):\n",
    "    result=None\n",
    "    floor=x.split()\n",
    "    if 'hmkhf' in x:\n",
    "        result=('0',floor[-1])\n",
    "    elif 'zyrhmkhf' in x:\n",
    "        result=('-1',floor[-1])\n",
    "    elif 'byshtr' in x:\n",
    "        result=(floor[0],floor[-1])\n",
    "    else:\n",
    "        result= re.findall ('\\d+',x)\n",
    "    return result\n",
    "\n",
    "def total_floor(x):\n",
    "    try:\n",
    "        return x[1]\n",
    "    except:\n",
    "        return x[0]\n",
    "\n",
    "floors=df.floor_en.apply(tabaghe_t)\n",
    "df['floor_en']=floors.apply(lambda x: x[0])\n",
    "df['total_floor']=floors.apply(total_floor)\n",
    "df.total_floor.replace(to_replace='hmkhf', value='0', inplace=True)\n",
    "df.total_floor.replace(to_replace='zyrhmkhf', value='-1', inplace=True)\n",
    "df.drop(['floor'], axis =1, inplace =True)"
   ]
  },
  {
   "cell_type": "code",
   "execution_count": 18,
   "id": "2c2f4969",
   "metadata": {},
   "outputs": [],
   "source": [
    "df.loc[:,'elevator']=df['elevator'].fillna(0)\n",
    "df.loc[:,'parking']=df['parking'].fillna(0)\n",
    "df.loc[:,'storage']=df['storage'].fillna(0)"
   ]
  },
  {
   "cell_type": "code",
   "execution_count": 19,
   "id": "d4de2b6e",
   "metadata": {},
   "outputs": [],
   "source": [
    "df.drop(['lat','long','Unnamed: 0.1','Unnamed: 0','slug','category_title','latin_city','divder','total_cost','city','token'], axis =1, inplace =True)"
   ]
  },
  {
   "cell_type": "code",
   "execution_count": 20,
   "id": "09f0e842",
   "metadata": {},
   "outputs": [
    {
     "name": "stderr",
     "output_type": "stream",
     "text": [
      "/tmp/ipykernel_48738/431198150.py:5: FutureWarning: The default value of regex will change from True to False in a future version.\n",
      "  df.loc[:,'room'] = pd.to_numeric(df.loc[:,'room'].astype(str).str.replace(\"4+\", \"5\"))\n"
     ]
    }
   ],
   "source": [
    "df.drop(df[df['floor_en']=='30+'].index,axis =0,inplace=True)\n",
    "\n",
    "df.loc[:,'room'] = df.loc[:,'room'].astype(str).str.replace(\"بدون اتاق\", \"0\")\n",
    "df['room'] = df['room'].apply(ConvertNumbers)\n",
    "df.loc[:,'room'] = pd.to_numeric(df.loc[:,'room'].astype(str).str.replace(\"4+\", \"5\"))\n",
    "df['built_year'] = df['built_year'].apply(ConvertNumbers)\n",
    "df.loc[:,'built_year'] = pd.to_numeric(df.loc[:,'built_year'].astype(str).str.replace(\"qbl z\", \"\"))\n"
   ]
  },
  {
   "cell_type": "code",
   "execution_count": 22,
   "id": "cdea7f18",
   "metadata": {},
   "outputs": [],
   "source": [
    "num = [1,8,9]\n",
    "for i in num:\n",
    "    df.loc[:,df.columns[i]] = pd.to_numeric(df[df.columns[i]].astype(str).str.replace(\"٬\", \"\").apply(unidecode), errors='coerce')\n",
    "   "
   ]
  },
  {
   "cell_type": "code",
   "execution_count": 26,
   "id": "200b0f30",
   "metadata": {},
   "outputs": [],
   "source": [
    "df.loc[:,'room']=df['room'].fillna('5')\n",
    "df.dropna(subset=['district'],inplace = True, axis=0)\n",
    "df.dropna(subset=['room'],inplace = True, axis=0)"
   ]
  },
  {
   "cell_type": "code",
   "execution_count": 28,
   "id": "16a5657f",
   "metadata": {},
   "outputs": [],
   "source": [
    "# ####  convert distric to numeric value\n",
    "district_gp_by = df.groupby(\"district\").price_per_meter.median().sort_values()\n",
    "values = district_gp_by.index\n",
    "dist_weight = range(1, len(values)+1)\n",
    "dist_dic = {val: weights for (val, weights) in zip(values, dist_weight)}\n",
    "df.district.replace(dist_dic, inplace=True)"
   ]
  },
  {
   "cell_type": "code",
   "execution_count": 29,
   "id": "bd2fb434",
   "metadata": {},
   "outputs": [],
   "source": [
    "df.to_csv(\"clean/preprocess_csv.csv\")"
   ]
  },
  {
   "cell_type": "code",
   "execution_count": null,
   "id": "6798641f",
   "metadata": {},
   "outputs": [],
   "source": []
  },
  {
   "cell_type": "code",
   "execution_count": null,
   "id": "d0db2e8d",
   "metadata": {},
   "outputs": [],
   "source": []
  },
  {
   "cell_type": "code",
   "execution_count": null,
   "id": "79316090",
   "metadata": {},
   "outputs": [],
   "source": []
  }
 ],
 "metadata": {
  "kernelspec": {
   "display_name": "Python 3 (ipykernel)",
   "language": "python",
   "name": "python3"
  },
  "language_info": {
   "codemirror_mode": {
    "name": "ipython",
    "version": 3
   },
   "file_extension": ".py",
   "mimetype": "text/x-python",
   "name": "python",
   "nbconvert_exporter": "python",
   "pygments_lexer": "ipython3",
   "version": "3.9.7"
  }
 },
 "nbformat": 4,
 "nbformat_minor": 5
}
